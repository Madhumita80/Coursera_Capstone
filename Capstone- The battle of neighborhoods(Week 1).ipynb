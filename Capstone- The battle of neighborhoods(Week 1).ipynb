{
    "cells": [
        {
            "cell_type": "markdown",
            "metadata": {
                "collapsed": true
            },
            "source": "<h3>INTRODUCTION - THE BUSINESS PROBLEM</h3>"
        },
        {
            "cell_type": "markdown",
            "metadata": {},
            "source": "<p> The objective of this Capstone project is to propose to the stakeholders a safe place to start a mini-grocery store business venture in the city of Vancouver in Canada. Opening a mini-grocery store can be a lucrative business venture if it can be opened in a secure place with little competition. When people are looking for specialty foods or ingredients that can't be found at the corner store or neighborhood supermarket, they typically head to small grocers. Such retail establishments sell food and items that are uncommon or not carried by bigger stores. \n    The problem will be approached in two phases: First, the safe borough would be selected for opening the store by analyzing the crime data of Vancouver city neighborhoods. Second, the data science tools learned in this course, will be used to explore the neighborhood of the safest borough and the ten most common venues in each neighbourhood. Based on the results of most common venues, proposal will be placed to the stakeholders as to in which neighborhood the store can be opened .</p>"
        },
        {
            "cell_type": "markdown",
            "metadata": {},
            "source": "<h3> SOURCE OF DATA </h3>"
        },
        {
            "cell_type": "markdown",
            "metadata": {},
            "source": "   By the given problem definition, we will consider three most important factors:\n    \n    1. First, find the safe and secure borough by analyzing the crime data of Vancouver city\n    2. Use the Foursquare API to find the 10 most common venues in each neighbourhood in the safest borough\n    3. Select the right neighborhood in the borough.\n    \n    The data sources that will be used are:\n    \n   <p> 1. Vancouver City Crime data from Kaggle: Since the data set is huge, for the purpose of this project, we will consider only the 2019 latest  \n          data available.  </p>\n    <a href = \"https://www.kaggle.com/wosaku/crime-in-vancouver \"> Here is the source: </a>\n    <p> 2. Further data will be scraped from Wikipedia to gather information on Boroughs in Vancouver: </p>\n    <a href= \"https://en.wikipedia.org/wiki/List_of_neighbourhoods_in_Vancouver\" > Vancouver Boroughs Data </a>\n    \n     A consolidated data set will be created of neighborhoods, boroughs, coordinates and the crime data gathered before. \n    \n     4. Foursquare API will be used to fetch that data and to find the most common venues in each neighborhood .\n     5. Machine learning algorithm to be used to cluster the neighbourhoods and finally select the best neighborhood to open the store.\n  "
        },
        {
            "cell_type": "code",
            "execution_count": null,
            "metadata": {},
            "outputs": [],
            "source": ""
        }
    ],
    "metadata": {
        "kernelspec": {
            "display_name": "Python 3.6",
            "language": "python",
            "name": "python3"
        },
        "language_info": {
            "codemirror_mode": {
                "name": "ipython",
                "version": 3
            },
            "file_extension": ".py",
            "mimetype": "text/x-python",
            "name": "python",
            "nbconvert_exporter": "python",
            "pygments_lexer": "ipython3",
            "version": "3.6.9"
        }
    },
    "nbformat": 4,
    "nbformat_minor": 1
}